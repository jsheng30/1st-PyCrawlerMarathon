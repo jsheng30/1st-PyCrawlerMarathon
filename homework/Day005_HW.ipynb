{
 "cells": [
  {
   "cell_type": "markdown",
   "metadata": {},
   "source": [
    "# API 資料串接 - 以 Dcard API 實作範例\n",
    "\n",
    "* 利用 urllib 套件的 urlretrieve 方法下載檔案\n",
    "* 了解 Python File I/O 讀檔、寫檔的用法\n",
    "* 能用運用資源管理器 With Statement 優化寫法"
   ]
  },
  {
   "cell_type": "markdown",
   "metadata": {},
   "source": [
    "## 作業目標\n",
    "\n",
    "* 請利用 API: https://www.dcard.tw/_api/forums/pet/posts?popular=true 回答下列問題：\n",
    "\n",
    "1. 這個 API 一次會回傳幾筆資料？每一筆資料包含哪些欄位？\n",
    "2. 取出每一筆資料的「標題」、「貼文時間」、「留言人數」、「按讚人數」\n",
    "3. 計算熱門/非熱門文章的「平均留言人數」與「平均按讚人數」"
   ]
  },
  {
   "cell_type": "code",
   "execution_count": 17,
   "metadata": {},
   "outputs": [
    {
     "name": "stdout",
     "output_type": "stream",
     "text": [
      "30筆\n",
      "\n",
      "id\n",
      "title\n",
      "excerpt\n",
      "anonymousSchool\n",
      "anonymousDepartment\n",
      "pinned\n",
      "forumId\n",
      "replyId\n",
      "createdAt\n",
      "updatedAt\n",
      "commentCount\n",
      "likeCount\n",
      "withNickname\n",
      "tags\n",
      "topics\n",
      "meta\n",
      "forumName\n",
      "forumAlias\n",
      "gender\n",
      "school\n",
      "department\n",
      "replyTitle\n",
      "mediaMeta\n",
      "reactions\n",
      "hidden\n",
      "customStyle\n",
      "isSuspiciousAccount\n",
      "layout\n",
      "withImages\n",
      "withVideos\n",
      "media\n",
      "reportReasonText\n",
      "postAvatar\n"
     ]
    }
   ],
   "source": [
    "# 1. 這個 API 一次會回傳幾筆資料？每一筆資料包含哪些欄位？\n",
    "\n",
    "import requests\n",
    "import json\n",
    "res = requests.get('https://www.dcard.tw/_api/forums/pet/posts?popular=true')\n",
    "# json.loads(res.text)\n",
    "js = json.loads(res.text)\n",
    "\n",
    "count = 0\n",
    "for item in js:\n",
    "    count = count + 1\n",
    "print(str(count)+'筆')\n",
    "print()\n",
    "item = js[0]\n",
    "for key in item.keys():\n",
    "    print(key)"
   ]
  },
  {
   "cell_type": "code",
   "execution_count": 20,
   "metadata": {},
   "outputs": [
    {
     "name": "stdout",
     "output_type": "stream",
     "text": [
      "標題: 不要被薩摩耶給騙了！ 貼文時間: 2019-11-29T00:25:38.826Z 留言人數: 81 按讚人數: 3622\n",
      "標題: 充滿柴柴的人生❤️ 貼文時間: 2019-11-28T07:19:45.391Z 留言人數: 21 按讚人數: 703\n",
      "標題: #圖多 偷看🐹上廁所...... 貼文時間: 2019-11-28T13:44:17.224Z 留言人數: 21 按讚人數: 686\n",
      "標題: 請問這樣算不算虐貓 貼文時間: 2019-11-28T09:04:40.825Z 留言人數: 59 按讚人數: 644\n",
      "標題: 兄弟貓🧐 貼文時間: 2019-11-28T12:25:11.285Z 留言人數: 11 按讚人數: 227\n",
      "標題: #圖 柴柴 你能懂我的明白嗎？ 貼文時間: 2019-11-28T16:22:31.895Z 留言人數: 8 按讚人數: 163\n",
      "標題: 沒有責任感根本沒資格養寵物 貼文時間: 2019-11-28T11:47:21.176Z 留言人數: 20 按讚人數: 152\n",
      "標題: 紙袋破壞王🏆 貼文時間: 2019-11-28T09:43:33.709Z 留言人數: 4 按讚人數: 107\n",
      "標題: 高科大校板的遺失倉鼠 貼文時間: 2019-11-28T05:23:12.530Z 留言人數: 2 按讚人數: 72\n",
      "標題: 我竟然被我家ㄉ狗鄙視！ 貼文時間: 2019-11-28T16:51:07.018Z 留言人數: 4 按讚人數: 63\n",
      "標題: 天冷怎麼辦ಥ_ಥ #柯基#圖多 貼文時間: 2019-11-28T15:47:50.708Z 留言人數: 0 按讚人數: 56\n",
      "標題: 🐰誰說兔子不能碰水！兔子❤️海灘 貼文時間: 2019-11-29T07:34:46.328Z 留言人數: 6 按讚人數: 52\n",
      "標題: 貓咪教妳皮笑肉不笑🙂 貼文時間: 2019-11-28T11:55:17.571Z 留言人數: 2 按讚人數: 43\n",
      "標題: #募款 #貓 愛在街角，守護浪貓 貼文時間: 2019-11-28T07:11:04.741Z 留言人數: 1 按讚人數: 31\n",
      "標題: #貓 #圖 我懷疑我家貓咪根本不覺得自己是貓咪 貼文時間: 2019-11-29T15:01:23.745Z 留言人數: 6 按讚人數: 29\n",
      "標題: 你也知道要坐那 貼文時間: 2019-11-28T17:00:22.755Z 留言人數: 3 按讚人數: 28\n",
      "標題: 就是你！！！我的菜！！！ 貼文時間: 2019-11-29T03:10:51.060Z 留言人數: 0 按讚人數: 27\n",
      "標題: 吸貓治百病 貼文時間: 2019-11-29T06:53:05.300Z 留言人數: 3 按讚人數: 26\n",
      "標題: 請問有人的柴犬走失嗎？(已找到失主，謝謝大家的幫忙🙏） 貼文時間: 2019-11-28T14:57:09.825Z 留言人數: 3 按讚人數: 23\n",
      "標題: 我養了一隻樹懶🦥 貼文時間: 2019-11-28T12:18:21.317Z 留言人數: 6 按讚人數: 23\n",
      "標題: 有愛的假兄弟 貼文時間: 2019-11-29T04:09:24.480Z 留言人數: 0 按讚人數: 20\n",
      "標題: 當我的貓和海豹都是一個囧臉 貼文時間: 2019-11-28T05:35:09.787Z 留言人數: 4 按讚人數: 20\n",
      "標題: 我家柴犬一系列照片 貼文時間: 2019-11-29T05:02:04.820Z 留言人數: 3 按讚人數: 19\n",
      "標題: 高以翔的療癒系狗狗theo 貼文時間: 2019-11-29T13:52:33.150Z 留言人數: 0 按讚人數: 16\n",
      "標題: 囤貓囤起來😻/圖多文長 貼文時間: 2019-11-29T03:41:19.070Z 留言人數: 2 按讚人數: 16\n",
      "標題: 限動裡的小三線們 貼文時間: 2019-11-29T04:00:40.448Z 留言人數: 4 按讚人數: 12\n",
      "標題: 問貓貓的帳號 貼文時間: 2019-11-28T11:30:50.129Z 留言人數: 1 按讚人數: 9\n",
      "標題: 自己的主子最可愛 貼文時間: 2019-11-29T05:09:30.489Z 留言人數: 1 按讚人數: 8\n",
      "標題: 挑戰極限的塞食物(๑˙❥˙๑) 貼文時間: 2019-11-28T07:55:21.256Z 留言人數: 8 按讚人數: 8\n",
      "標題: 台北中正區臨沂街 馬爾濟斯走丟 貼文時間: 2019-11-29T10:05:26.773Z 留言人數: 3 按讚人數: 7\n"
     ]
    }
   ],
   "source": [
    "# 2. 取出每一筆資料的「標題」、「貼文時間」、「留言人數」、「按讚人數」\n",
    "\n",
    "for item in js:\n",
    "    print('標題:',item['title'],'貼文時間:',item['createdAt'],'留言人數:',item['commentCount'],'按讚人數:',item['likeCount'])\n"
   ]
  },
  {
   "cell_type": "code",
   "execution_count": 28,
   "metadata": {},
   "outputs": [
    {
     "name": "stdout",
     "output_type": "stream",
     "text": [
      "熱門平均留言人數: 17 熱門平均按讚人數: 12\n",
      "非熱門平均留言人數: 25 非熱門平均按讚人數: 26\n"
     ]
    }
   ],
   "source": [
    "# 3. 計算熱門/非熱門文章的「平均留言人數」與「平均按讚人數」\n",
    "\n",
    "res = requests.get('https://www.dcard.tw/_api/forums/pet/posts?popular=false')\n",
    "# json.loads(res.text)\n",
    "jsn = json.loads(res.text)\n",
    "averComm = 0\n",
    "averLike = 0\n",
    "for item in js:\n",
    "    averComm = averComm + int(item['commentCount'])\n",
    "    averLike = averLike + int(item['likeCount'])\n",
    "print('熱門平均留言人數:',averComm%30,'熱門平均按讚人數:',averLike%30)\n",
    "for item in jsn:\n",
    "    averComm = averComm + int(item['commentCount'])\n",
    "    averLike = averLike + int(item['likeCount'])\n",
    "print('非熱門平均留言人數:',averComm%30,'非熱門平均按讚人數:',averLike%30)"
   ]
  },
  {
   "cell_type": "code",
   "execution_count": null,
   "metadata": {},
   "outputs": [],
   "source": []
  },
  {
   "cell_type": "code",
   "execution_count": null,
   "metadata": {},
   "outputs": [],
   "source": []
  }
 ],
 "metadata": {
  "kernelspec": {
   "display_name": "Python 3",
   "language": "python",
   "name": "python3"
  },
  "language_info": {
   "codemirror_mode": {
    "name": "ipython",
    "version": 3
   },
   "file_extension": ".py",
   "mimetype": "text/x-python",
   "name": "python",
   "nbconvert_exporter": "python",
   "pygments_lexer": "ipython3",
   "version": "3.7.4"
  }
 },
 "nbformat": 4,
 "nbformat_minor": 2
}
