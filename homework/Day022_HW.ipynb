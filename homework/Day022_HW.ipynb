{
 "cells": [
  {
   "cell_type": "markdown",
   "metadata": {},
   "source": [
    "# 空氣污染網站爬蟲實作練習\n",
    "\n",
    "\n",
    "* 能夠利用 Request + BeatifulSour 撰寫爬蟲，並存放到合適的資料結構\n"
   ]
  },
  {
   "cell_type": "markdown",
   "metadata": {},
   "source": [
    "## 作業目標\n",
    "\n",
    "根據範例：\n",
    "\n",
    "* 取出 台北市士林區 2018/01 – 2018/08 的 SO2 資料\n",
    "* 取出 台北市士林區 2018/01 – 2018/08 的 SO2、CO 資料"
   ]
  },
  {
   "cell_type": "markdown",
   "metadata": {},
   "source": [
    "## 1. 取出 台北市士林區 2018/01 – 2018/08 的 SO2 資料"
   ]
  },
  {
   "cell_type": "code",
   "execution_count": 25,
   "metadata": {},
   "outputs": [],
   "source": [
    "from selenium import webdriver\n",
    "from selenium.webdriver.support.ui import Select\n",
    "from bs4 import BeautifulSoup\n",
    "import pandas as pd"
   ]
  },
  {
   "cell_type": "code",
   "execution_count": 3,
   "metadata": {},
   "outputs": [],
   "source": [
    "browser = webdriver.Chrome(executable_path='chromedriver')\n",
    "browser.get(\"http://taqm.epa.gov.tw/taqm/tw/MonthlyAverage.aspx\")\n"
   ]
  },
  {
   "cell_type": "code",
   "execution_count": 7,
   "metadata": {},
   "outputs": [],
   "source": [
    "selectSite = Select(browser.find_element_by_id('ctl05_ddlSite'))\n",
    "selectSite.select_by_value('11')\n",
    "selectYear = Select(browser.find_element_by_id('ctl05_ddlYear'))\n",
    "selectYear.select_by_value('2018')\n",
    "browser.find_element_by_id('ctl05_btnQuery').click()"
   ]
  },
  {
   "cell_type": "code",
   "execution_count": 31,
   "metadata": {},
   "outputs": [],
   "source": [
    "html_source = browser.page_source\n",
    "soup = BeautifulSoup(html_source,'html5lib')\n",
    "trs = soup.find('table',{'class':'TABLE_G'}).find_all('tr')\n",
    "rowspan = 0\n",
    "count = 0\n",
    "SO2 = {\n",
    "    '監測日期':[],\n",
    "    '監測值':[]\n",
    "}\n",
    "for tr in trs:\n",
    "    if 'SO2' in tr.text:\n",
    "        rowspan = int(tr.td['rowspan'])\n",
    "#         print(rowspan)\n",
    "    if rowspan != 0:\n",
    "        tds = tr.find_all('td',{'class':None})\n",
    "        if int(tds[0].text[5:7]) >=1 and int(tds[0].text[5:7]) <=8:\n",
    "            SO2['監測日期'].append(tds[0].text)\n",
    "            SO2['監測值'].append(tds[1].text)\n",
    "        count = count + 1\n",
    "        if count == rowspan:\n",
    "            break\n"
   ]
  },
  {
   "cell_type": "code",
   "execution_count": 32,
   "metadata": {},
   "outputs": [
    {
     "data": {
      "text/html": [
       "<div>\n",
       "<style scoped>\n",
       "    .dataframe tbody tr th:only-of-type {\n",
       "        vertical-align: middle;\n",
       "    }\n",
       "\n",
       "    .dataframe tbody tr th {\n",
       "        vertical-align: top;\n",
       "    }\n",
       "\n",
       "    .dataframe thead th {\n",
       "        text-align: right;\n",
       "    }\n",
       "</style>\n",
       "<table border=\"1\" class=\"dataframe\">\n",
       "  <thead>\n",
       "    <tr style=\"text-align: right;\">\n",
       "      <th></th>\n",
       "      <th>監測日期</th>\n",
       "      <th>監測值</th>\n",
       "    </tr>\n",
       "  </thead>\n",
       "  <tbody>\n",
       "    <tr>\n",
       "      <td>0</td>\n",
       "      <td>2018/01</td>\n",
       "      <td>1.80</td>\n",
       "    </tr>\n",
       "    <tr>\n",
       "      <td>1</td>\n",
       "      <td>2018/02</td>\n",
       "      <td>1.90</td>\n",
       "    </tr>\n",
       "    <tr>\n",
       "      <td>2</td>\n",
       "      <td>2018/03</td>\n",
       "      <td>2.20</td>\n",
       "    </tr>\n",
       "    <tr>\n",
       "      <td>3</td>\n",
       "      <td>2018/04</td>\n",
       "      <td>2.30</td>\n",
       "    </tr>\n",
       "    <tr>\n",
       "      <td>4</td>\n",
       "      <td>2018/05</td>\n",
       "      <td>3.10</td>\n",
       "    </tr>\n",
       "    <tr>\n",
       "      <td>5</td>\n",
       "      <td>2018/06</td>\n",
       "      <td>2.70</td>\n",
       "    </tr>\n",
       "    <tr>\n",
       "      <td>6</td>\n",
       "      <td>2018/07</td>\n",
       "      <td>2.20</td>\n",
       "    </tr>\n",
       "    <tr>\n",
       "      <td>7</td>\n",
       "      <td>2018/08</td>\n",
       "      <td>2.40</td>\n",
       "    </tr>\n",
       "  </tbody>\n",
       "</table>\n",
       "</div>"
      ],
      "text/plain": [
       "      監測日期   監測值\n",
       "0  2018/01  1.80\n",
       "1  2018/02  1.90\n",
       "2  2018/03  2.20\n",
       "3  2018/04  2.30\n",
       "4  2018/05  3.10\n",
       "5  2018/06  2.70\n",
       "6  2018/07  2.20\n",
       "7  2018/08  2.40"
      ]
     },
     "execution_count": 32,
     "metadata": {},
     "output_type": "execute_result"
    }
   ],
   "source": [
    "pd.DataFrame(SO2)"
   ]
  },
  {
   "cell_type": "markdown",
   "metadata": {},
   "source": [
    "## 2. 取出 台北市士林區 2018/01 – 2018/08 的 SO2、CO 資料"
   ]
  },
  {
   "cell_type": "code",
   "execution_count": 80,
   "metadata": {},
   "outputs": [
    {
     "name": "stdout",
     "output_type": "stream",
     "text": [
      "{'監測日期': ['2018/01', '2018/02', '2018/03', '2018/04', '2018/05', '2018/06', '2018/07', '2018/08'], 'SO2-監測值': ['1.80', '1.90', '2.20', '2.30', '3.10', '2.70', '2.20', '2.40'], 'CO-監測值': ['0.34', '0.44', '0.40', '0.38', '0.34', '0.29', '0.21', '0.30']}\n"
     ]
    }
   ],
   "source": [
    "html_source = browser.page_source\n",
    "soup = BeautifulSoup(html_source,'html5lib')\n",
    "trs = soup.find('table',{'class':'TABLE_G'}).find_all('tr')\n",
    "rowspan = 0\n",
    "COcount = 0\n",
    "SO2count = 0\n",
    "count = 0\n",
    "SO2 = {\n",
    "    '監測日期':[],\n",
    "    'SO2-監測值':[],\n",
    "    'CO-監測值':[]\n",
    "}\n",
    "test = ['SO2','CO']\n",
    "word = ''\n",
    "for tr in trs:\n",
    "    if len(tr.find_all('td',{'class':'no-alt'})) != 0:\n",
    "#         print(tr.td.text)\n",
    "#         print(tr)\n",
    "        word = tr.td.text\n",
    "    if word in test:\n",
    "#         print(tr)\n",
    "        rowspan = int(tr.td['rowspan'])\n",
    "        word = ''\n",
    "    if rowspan !=0:\n",
    "        if SO2count != rowspan:\n",
    "            tds = tr.find_all('td',{'class':None})\n",
    "            if int(tds[0].text[5:7]) >=1 and int(tds[0].text[5:7]) <=8:\n",
    "                SO2['監測日期'].append(tds[0].text)\n",
    "                SO2['SO2-監測值'].append(tds[1].text)\n",
    "#                 print(SO2)\n",
    "            SO2count = SO2count + 1\n",
    "        elif COcount != rowspan:\n",
    "            tds = tr.find_all('td',{'class':None})\n",
    "            if int(tds[0].text[5:7]) >=1 and int(tds[0].text[5:7]) <=8:\n",
    "                SO2['CO-監測值'].append(tds[1].text)\n",
    "            COcount = COcount + 1\n",
    "        else:\n",
    "            break\n"
   ]
  },
  {
   "cell_type": "code",
   "execution_count": 81,
   "metadata": {},
   "outputs": [
    {
     "data": {
      "text/html": [
       "<div>\n",
       "<style scoped>\n",
       "    .dataframe tbody tr th:only-of-type {\n",
       "        vertical-align: middle;\n",
       "    }\n",
       "\n",
       "    .dataframe tbody tr th {\n",
       "        vertical-align: top;\n",
       "    }\n",
       "\n",
       "    .dataframe thead th {\n",
       "        text-align: right;\n",
       "    }\n",
       "</style>\n",
       "<table border=\"1\" class=\"dataframe\">\n",
       "  <thead>\n",
       "    <tr style=\"text-align: right;\">\n",
       "      <th></th>\n",
       "      <th>監測日期</th>\n",
       "      <th>SO2-監測值</th>\n",
       "      <th>CO-監測值</th>\n",
       "    </tr>\n",
       "  </thead>\n",
       "  <tbody>\n",
       "    <tr>\n",
       "      <td>0</td>\n",
       "      <td>2018/01</td>\n",
       "      <td>1.80</td>\n",
       "      <td>0.34</td>\n",
       "    </tr>\n",
       "    <tr>\n",
       "      <td>1</td>\n",
       "      <td>2018/02</td>\n",
       "      <td>1.90</td>\n",
       "      <td>0.44</td>\n",
       "    </tr>\n",
       "    <tr>\n",
       "      <td>2</td>\n",
       "      <td>2018/03</td>\n",
       "      <td>2.20</td>\n",
       "      <td>0.40</td>\n",
       "    </tr>\n",
       "    <tr>\n",
       "      <td>3</td>\n",
       "      <td>2018/04</td>\n",
       "      <td>2.30</td>\n",
       "      <td>0.38</td>\n",
       "    </tr>\n",
       "    <tr>\n",
       "      <td>4</td>\n",
       "      <td>2018/05</td>\n",
       "      <td>3.10</td>\n",
       "      <td>0.34</td>\n",
       "    </tr>\n",
       "    <tr>\n",
       "      <td>5</td>\n",
       "      <td>2018/06</td>\n",
       "      <td>2.70</td>\n",
       "      <td>0.29</td>\n",
       "    </tr>\n",
       "    <tr>\n",
       "      <td>6</td>\n",
       "      <td>2018/07</td>\n",
       "      <td>2.20</td>\n",
       "      <td>0.21</td>\n",
       "    </tr>\n",
       "    <tr>\n",
       "      <td>7</td>\n",
       "      <td>2018/08</td>\n",
       "      <td>2.40</td>\n",
       "      <td>0.30</td>\n",
       "    </tr>\n",
       "  </tbody>\n",
       "</table>\n",
       "</div>"
      ],
      "text/plain": [
       "      監測日期 SO2-監測值 CO-監測值\n",
       "0  2018/01    1.80   0.34\n",
       "1  2018/02    1.90   0.44\n",
       "2  2018/03    2.20   0.40\n",
       "3  2018/04    2.30   0.38\n",
       "4  2018/05    3.10   0.34\n",
       "5  2018/06    2.70   0.29\n",
       "6  2018/07    2.20   0.21\n",
       "7  2018/08    2.40   0.30"
      ]
     },
     "execution_count": 81,
     "metadata": {},
     "output_type": "execute_result"
    }
   ],
   "source": [
    "pd.DataFrame(SO2)"
   ]
  },
  {
   "cell_type": "code",
   "execution_count": null,
   "metadata": {},
   "outputs": [],
   "source": []
  },
  {
   "cell_type": "code",
   "execution_count": null,
   "metadata": {},
   "outputs": [],
   "source": []
  },
  {
   "cell_type": "code",
   "execution_count": null,
   "metadata": {},
   "outputs": [],
   "source": []
  },
  {
   "cell_type": "code",
   "execution_count": null,
   "metadata": {},
   "outputs": [],
   "source": []
  }
 ],
 "metadata": {
  "kernelspec": {
   "display_name": "Python 3",
   "language": "python",
   "name": "python3"
  },
  "language_info": {
   "codemirror_mode": {
    "name": "ipython",
    "version": 3
   },
   "file_extension": ".py",
   "mimetype": "text/x-python",
   "name": "python",
   "nbconvert_exporter": "python",
   "pygments_lexer": "ipython3",
   "version": "3.7.4"
  }
 },
 "nbformat": 4,
 "nbformat_minor": 2
}
