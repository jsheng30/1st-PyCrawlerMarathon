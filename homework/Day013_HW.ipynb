{
 "cells": [
  {
   "cell_type": "markdown",
   "metadata": {},
   "source": [
    "# PTT 網路爬蟲實作練習\n",
    "\n",
    "\n",
    "* 能夠利用 Request + BeatifulSour 撰寫爬蟲，並存放到合適的資料結構\n"
   ]
  },
  {
   "cell_type": "markdown",
   "metadata": {},
   "source": [
    "## 作業目標\n",
    "\n",
    "根據範例 ，完成以下問題：\n",
    "\n",
    "* ① 印出最新文章的「作者」「標題」「時間」\n",
    "* ② 印出第一頁所有文章的「作者」「標題」「時間」\n"
   ]
  },
  {
   "cell_type": "markdown",
   "metadata": {},
   "source": [
    "### ① 印出最新文章的「作者」「標題」「時間」"
   ]
  },
  {
   "cell_type": "code",
   "execution_count": 52,
   "metadata": {},
   "outputs": [],
   "source": [
    "import requests as req\n",
    "from bs4 import BeautifulSoup\n",
    "url = 'https://www.ptt.cc'\n",
    "NBA = '/bbs/NBA/index.html'\n",
    "headers = {\n",
    "    \"user-agent\": \"Mozilla/5.0 (Windows NT 10.0; Win64; x64) AppleWebKit/537.36 (KHTML, like Gecko) Chrome/78.0.3904.97 Safari/537.36\",\n",
    "    \"cookie\": \"over18=1;\"\n",
    "}"
   ]
  },
  {
   "cell_type": "code",
   "execution_count": 53,
   "metadata": {
    "scrolled": false
   },
   "outputs": [
    {
     "name": "stdout",
     "output_type": "stream",
     "text": [
      "Rambo [BOX ] Timberwolves 125:142 Lakers 數據 12/09\n",
      "NSYSUheng [情報] AD今天29投20中，狂砍賽季新高50分 12/09\n",
      "cute320518 [新聞] 向吉喆默哀 中國球迷素質讓林書豪動怒了 12/09\n",
      "thnlkj0665 [花邊] 笑稱跳投不如兒子 詹皇:我在家中只能排第三 12/09\n",
      "MayBeSoft [花邊] Vogel: AD的表現是old-school風格的 12/09\n",
      "LinBaoYan [新聞] 戴維斯狂飆50分 湖人退灰狼笑納4連勝 12/09\n",
      "Angel0724 [新聞] 致勝上籃後沒跟KD擊掌 丁丁：真不好意思 12/09\n",
      "pneumo [情報] CP3對於OKC上半場兩次延誤比賽被吹 12/09\n",
      "VeryGoodBoy [情報] ESPN:湖人三頭怪沒人可擋 12/09\n",
      "ColeNorris [花邊] LBJ IG: 他們說我已無法再飛了 12/09\n",
      "thnlkj0665 [情報] Kyrie Irving 可能在下個星期加入球隊訓練 12/09\n",
      "jk182325 [新聞] 稱哈登非最偉大火箭人　退役名將：除非 12/09\n",
      "pneumo [外絮] Lowry在賽後跟騷擾者對嗆:來找我! 12/09\n",
      "lovea [花邊] 啦啦隊女郎列隊唱歌 壽星哈沃德享艷福 12/09\n",
      "jack8587 [花邊] 中媒驚呼神劇本！ 林書豪完美詮釋沒有不 12/09\n",
      "Vedan [公告] 板規v6.6  5/24\n",
      "Vedan [公告] 樂透取消及未來不再開啟樂透  6/24\n",
      "qazwsx879345 [公告] 版主上任相關事項  10/25\n",
      "JerroLi [情報] SEASON Schedule 賽程 December 19–20 11/29\n",
      "dragon803 [公告]是否禁止basketball top 5文章投票開始  12/08\n"
     ]
    }
   ],
   "source": [
    "res = requests.get(url+NBA,headers=headers)\n",
    "soup = BeautifulSoup(res.text)\n",
    "items = soup.find_all('div',{'class':'r-ent'})\n",
    "for item in items:\n",
    "    if '-' != item.find('div',{'class':'author'}).text:\n",
    "        print(item.find('div',{'class':'author'}).text,item.find('a').text,item.find('div',{'class':'date'}).text)"
   ]
  },
  {
   "cell_type": "markdown",
   "metadata": {},
   "source": [
    "### ② 印出第一頁所有文章的「作者」「標題」「時間」"
   ]
  },
  {
   "cell_type": "code",
   "execution_count": 54,
   "metadata": {},
   "outputs": [
    {
     "name": "stdout",
     "output_type": "stream",
     "text": [
      "Price [轉錄]Lyotard 對於太陽板討論串的結論  5/16\n",
      "Price [公告] 請停止一切關於本次活動的發言  5/31\n",
      "Frankaze [轉錄]跟之前那篇比起來 我覺得這篇也應該轉過來  6/08\n",
      "Frankaze [轉錄]再轉一篇好文來  6/08\n",
      "Price [轉錄][情報] 夏洛特山貓系列  6/10\n",
      "Price [轉錄]Re: [心得] 真是受不了糗爺....  6/10\n",
      "Price [轉錄]總冠軍賽NO.2觀後感  6/10\n",
      "AmuroNamie [心得] Rasheed Wallace  6/11\n",
      "toptree 掌控球賽的男人  6/12\n",
      "skchang [閒聊] 說說2004季後賽名場面回顧  6/12\n",
      "shineup [心得] 其實說穿了 就是活塞的防守太可怕了  6/12\n",
      "cOvi Re: [閒聊] 說說2004季後賽名場面回顧  6/12\n",
      "ykshih Re: [閒聊] 說說2004季後賽名場面回顧  6/12\n",
      "Frankaze Re: [閒聊] 說說2004季後賽名場面回顧  6/12\n",
      "Price [轉錄]Re: 總冠軍賽NO.3觀後感  6/14\n",
      "Frankaze [轉錄]Re: 總冠軍賽NO.3觀後感  6/14\n",
      "star1 Re: [轉錄]Re: 總冠軍賽NO.3觀後感  6/14\n",
      "coldspring Re: [轉錄]Re: 總冠軍賽NO.3觀後感  6/14\n",
      "airbear Re: Kobe is frustrated...  6/14\n",
      "pennykidd Re: [轉錄]Re: 總冠軍賽NO.3觀後感  6/14\n"
     ]
    }
   ],
   "source": [
    "items = soup.find_all('a',{'class':'btn wide'})\n",
    "for item in items:\n",
    "    if '最舊' in item:\n",
    "        oldUrl = url+item['href']\n",
    "res = requests.get(oldUrl,headers=headers)\n",
    "soup = BeautifulSoup(res.text)\n",
    "items = soup.find_all('div',{'class':'r-ent'})\n",
    "for item in items:\n",
    "    if '-' != item.find('div',{'class':'author'}).text:\n",
    "        print(item.find('div',{'class':'author'}).text,item.find('a').text,item.find('div',{'class':'date'}).text)"
   ]
  },
  {
   "cell_type": "markdown",
   "metadata": {},
   "source": [
    "### ③ 試著爬爬看其他版的文章"
   ]
  },
  {
   "cell_type": "code",
   "execution_count": 55,
   "metadata": {},
   "outputs": [
    {
     "name": "stdout",
     "output_type": "stream",
     "text": [
      "hvariables [新聞] 人夫外遇車震還錄影 老婆撿到隨身碟喊告 12/08\n",
      "hungsasa [創作] 未接來電 12/08\n",
      "deepdish [新聞]「我學佛的，射進去有好處！」 女求桃花運 12/09\n",
      "jmegak Re: [閒聊] 舔耳朵 12/09\n",
      "Paulei Re: [閒聊] 舔耳朵 12/09\n",
      "as308015 [心得] lovetoy VX5 開箱開獎結果 12/09\n",
      "mimilove [徵文] 半夜 12/09\n",
      "hungsasa [創作] 有一種人 1 12/09\n",
      "p08171110 [創作] 金雀花 12/09\n",
      "penzer [心得] 真人娃娃體驗店感謝季，抽獎在底下 12/09\n",
      "jgyjg [閒聊] 砲友對你說過最地雷的話 12/09\n",
      "a38543356 [徵文] 豬之歌 12/09\n",
      "s49971616 [討論] 吃喝嫖賭抽   大家覺得嫖最嚴重嗎? 12/09\n",
      "TaraSoYeon [閒聊] 60路的陳美鳳 12/09\n",
      "sorchan Re: [閒聊] 砲友對你說過最地雷的話 12/09\n",
      "AngryYouth [閒聊] 做愛到一半被要求打電話給媽媽 做得到嗎 12/09\n",
      "FallRed [公告] 西斯板規 Ver 6.2.9 10/16\n",
      "FallRed Fw: [公告] 請使用者多加注意我國保護兒少的法令  7/29\n",
      "Assisi [公告] 2019 冬季徵文  11/25\n",
      "Assisi [公告] 2019 拾貳月 西斯置底閒聊區 12/01\n"
     ]
    }
   ],
   "source": [
    "res = requests.get(url+'/bbs/sex/index.html',headers=headers)\n",
    "soup = BeautifulSoup(res.text)\n",
    "items = soup.find_all('div',{'class':'r-ent'})\n",
    "for item in items:\n",
    "    if '-' != item.find('div',{'class':'author'}).text:\n",
    "        print(item.find('div',{'class':'author'}).text,item.find('a').text,item.find('div',{'class':'date'}).text)"
   ]
  }
 ],
 "metadata": {
  "kernelspec": {
   "display_name": "Python 3",
   "language": "python",
   "name": "python3"
  },
  "language_info": {
   "codemirror_mode": {
    "name": "ipython",
    "version": 3
   },
   "file_extension": ".py",
   "mimetype": "text/x-python",
   "name": "python",
   "nbconvert_exporter": "python",
   "pygments_lexer": "ipython3",
   "version": "3.7.4"
  }
 },
 "nbformat": 4,
 "nbformat_minor": 2
}
