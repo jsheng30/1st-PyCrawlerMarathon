{
 "cells": [
  {
   "cell_type": "markdown",
   "metadata": {},
   "source": [
    "# 其他工具：Grab、PyQuery\n",
    "\n",
    "\n",
    "* 利用 Grab 套件的存取 HTML 資源\n",
    "* 利用 PyQuery 套件的解析 HTML 格式\n"
   ]
  },
  {
   "cell_type": "markdown",
   "metadata": {},
   "source": [
    "## 作業目標\n",
    "\n",
    "將之前用 requests + beatifulsoup 實作的方式，改寫成 grab + pyquery，並且比較有哪些地方不同。\n",
    "\n",
    "\n",
    "\n"
   ]
  },
  {
   "cell_type": "markdown",
   "metadata": {},
   "source": [
    "## requests + BeautifulSoup\n"
   ]
  },
  {
   "cell_type": "code",
   "execution_count": 18,
   "metadata": {},
   "outputs": [
    {
     "name": "stdout",
     "output_type": "stream",
     "text": [
      "<!DOCTYPE html>\n",
      "<html>\n",
      "\t<head>\n",
      "\t\t<meta charset=\"utf-8\">\n",
      "\t\t\n",
      "\n",
      "<meta name=\"viewport\" content=\"width=device-width, initial-scale=1\">\n",
      "\n",
      "<title>批踢踢實業坊</title>\n",
      "\n",
      "<link rel=\"stylesheet\" type=\"text/css\" href=\"//images.ptt.cc/bbs/v2.27/bbs-common.css\">\n",
      "<link rel=\"stylesheet\" type=\"text/css\" href=\"//images.ptt.cc/bbs/v2.27/bbs-base.css\" media=\"screen\">\n",
      "<link rel=\"stylesheet\" type=\"text/css\" href=\"//images.ptt.cc/bbs/v2.27/bbs-custom.css\">\n",
      "<link rel=\"stylesheet\" type=\"text/css\" href=\"//images.ptt.cc/bbs/v2.27/pushstream.css\" media=\"screen\">\n",
      "<link rel=\"stylesheet\" type=\"text/css\" href=\"//images.ptt.cc/bbs/v2.27/bbs-print.css\" media=\"print\">\n",
      "\n",
      "\n",
      "\n",
      "\n",
      "\t</head>\n",
      "    <body>\n",
      "\t\t\n",
      "<div class=\"bbs-screen bbs-content\">\n",
      "    <div class=\"over18-notice\">\n",
      "        <p>本網站已依網站內容分級規定處理</p>\n",
      "\n",
      "        <p>警告︰您即將進入之看板內容需滿十八歲方可瀏覽。</p>\n",
      "\n",
      "        <p>若您尚未年滿十八歲，請點選離開。若您已滿十八歲，亦不可將本區之內容派發、傳閱、出售、出租、交給或借予年齡未滿18歲的人士瀏覽，或將本網站內容向該人士出示、播放或放映。</p>\n",
      "    </div>\n",
      "</div>\n",
      "\n",
      "<div class=\"bbs-screen bbs-content center clear\">\n",
      "    <form action=\"/ask/over18\" method=\"post\">\n",
      "        <input type=\"hidden\" name=\"from\" value=\"/bbs/Beauty/M.1556291059.A.75A.html\">\n",
      "        <div class=\"over18-button-container\">\n",
      "            <button class=\"btn-big\" type=\"submit\" name=\"yes\" value=\"yes\">我同意，我已年滿十八歲<br><small>進入</small></button>\n",
      "        </div>\n",
      "        <div class=\"over18-button-container\">\n",
      "            <button class=\"btn-big\" type=\"submit\" name=\"no\" value=\"no\">未滿十八歲或不同意本條款<br><small>離開</small></button>\n",
      "        </div>\n",
      "    </form>\n",
      "</div>\n",
      "\n",
      "\t\t\n",
      "\n",
      "<script>\n",
      "  (function(i,s,o,g,r,a,m){i['GoogleAnalyticsObject']=r;i[r]=i[r]||function(){\n",
      "  (i[r].q=i[r].q||[]).push(arguments)},i[r].l=1*new Date();a=s.createElement(o),\n",
      "  m=s.getElementsByTagName(o)[0];a.async=1;a.src=g;m.parentNode.insertBefore(a,m)\n",
      "  })(window,document,'script','https://www.google-analytics.com/analytics.js','ga');\n",
      "\n",
      "  ga('create', 'UA-32365737-1', {\n",
      "    cookieDomain: 'ptt.cc',\n",
      "    legacyCookieDomain: 'ptt.cc'\n",
      "  });\n",
      "  ga('send', 'pageview');\n",
      "</script>\n",
      "\n",
      "\n",
      "\t\t\n",
      "<script src=\"//ajax.googleapis.com/ajax/libs/jquery/2.1.1/jquery.min.js\"></script>\n",
      "<script src=\"//images.ptt.cc/bbs/v2.27/bbs.js\"></script>\n",
      "\n",
      "    </body>\n",
      "</html>\n",
      "\n",
      "=======================================\n",
      "<title>批踢踢實業坊</title>\n"
     ]
    }
   ],
   "source": [
    "import requests\n",
    "from bs4 import BeautifulSoup \n",
    "url = 'https://www.ptt.cc/bbs/Beauty/M.1556291059.A.75A.html'\n",
    "res = requests.get(url)\n",
    "print(res.text)\n",
    "soup = BeautifulSoup(res.text)\n",
    "print('=======================================')\n",
    "print(soup.title)"
   ]
  },
  {
   "cell_type": "markdown",
   "metadata": {},
   "source": [
    "## Grab + PyQuery"
   ]
  },
  {
   "cell_type": "code",
   "execution_count": 24,
   "metadata": {
    "scrolled": false
   },
   "outputs": [
    {
     "name": "stdout",
     "output_type": "stream",
     "text": [
      "b'<!DOCTYPE html>\\n<html>\\n\\t<head>\\n\\t\\t<meta charset=\"utf-8\">\\n\\t\\t\\n\\n<meta name=\"viewport\" content=\"width=device-width, initial-scale=1\">\\n\\n<title>\\xe6\\x89\\xb9\\xe8\\xb8\\xa2\\xe8\\xb8\\xa2\\xe5\\xaf\\xa6\\xe6\\xa5\\xad\\xe5\\x9d\\x8a</title>\\n\\n<link rel=\"stylesheet\" type=\"text/css\" href=\"//images.ptt.cc/bbs/v2.27/bbs-common.css\">\\n<link rel=\"stylesheet\" type=\"text/css\" href=\"//images.ptt.cc/bbs/v2.27/bbs-base.css\" media=\"screen\">\\n<link rel=\"stylesheet\" type=\"text/css\" href=\"//images.ptt.cc/bbs/v2.27/bbs-custom.css\">\\n<link rel=\"stylesheet\" type=\"text/css\" href=\"//images.ptt.cc/bbs/v2.27/pushstream.css\" media=\"screen\">\\n<link rel=\"stylesheet\" type=\"text/css\" href=\"//images.ptt.cc/bbs/v2.27/bbs-print.css\" media=\"print\">\\n\\n\\n\\n\\n\\t</head>\\n    <body>\\n\\t\\t\\n<div class=\"bbs-screen bbs-content\">\\n    <div class=\"over18-notice\">\\n        <p>\\xe6\\x9c\\xac\\xe7\\xb6\\xb2\\xe7\\xab\\x99\\xe5\\xb7\\xb2\\xe4\\xbe\\x9d\\xe7\\xb6\\xb2\\xe7\\xab\\x99\\xe5\\x85\\xa7\\xe5\\xae\\xb9\\xe5\\x88\\x86\\xe7\\xb4\\x9a\\xe8\\xa6\\x8f\\xe5\\xae\\x9a\\xe8\\x99\\x95\\xe7\\x90\\x86</p>\\n\\n        <p>\\xe8\\xad\\xa6\\xe5\\x91\\x8a\\xef\\xb8\\xb0\\xe6\\x82\\xa8\\xe5\\x8d\\xb3\\xe5\\xb0\\x87\\xe9\\x80\\xb2\\xe5\\x85\\xa5\\xe4\\xb9\\x8b\\xe7\\x9c\\x8b\\xe6\\x9d\\xbf\\xe5\\x85\\xa7\\xe5\\xae\\xb9\\xe9\\x9c\\x80\\xe6\\xbb\\xbf\\xe5\\x8d\\x81\\xe5\\x85\\xab\\xe6\\xad\\xb2\\xe6\\x96\\xb9\\xe5\\x8f\\xaf\\xe7\\x80\\x8f\\xe8\\xa6\\xbd\\xe3\\x80\\x82</p>\\n\\n        <p>\\xe8\\x8b\\xa5\\xe6\\x82\\xa8\\xe5\\xb0\\x9a\\xe6\\x9c\\xaa\\xe5\\xb9\\xb4\\xe6\\xbb\\xbf\\xe5\\x8d\\x81\\xe5\\x85\\xab\\xe6\\xad\\xb2\\xef\\xbc\\x8c\\xe8\\xab\\x8b\\xe9\\xbb\\x9e\\xe9\\x81\\xb8\\xe9\\x9b\\xa2\\xe9\\x96\\x8b\\xe3\\x80\\x82\\xe8\\x8b\\xa5\\xe6\\x82\\xa8\\xe5\\xb7\\xb2\\xe6\\xbb\\xbf\\xe5\\x8d\\x81\\xe5\\x85\\xab\\xe6\\xad\\xb2\\xef\\xbc\\x8c\\xe4\\xba\\xa6\\xe4\\xb8\\x8d\\xe5\\x8f\\xaf\\xe5\\xb0\\x87\\xe6\\x9c\\xac\\xe5\\x8d\\x80\\xe4\\xb9\\x8b\\xe5\\x85\\xa7\\xe5\\xae\\xb9\\xe6\\xb4\\xbe\\xe7\\x99\\xbc\\xe3\\x80\\x81\\xe5\\x82\\xb3\\xe9\\x96\\xb1\\xe3\\x80\\x81\\xe5\\x87\\xba\\xe5\\x94\\xae\\xe3\\x80\\x81\\xe5\\x87\\xba\\xe7\\xa7\\x9f\\xe3\\x80\\x81\\xe4\\xba\\xa4\\xe7\\xb5\\xa6\\xe6\\x88\\x96\\xe5\\x80\\x9f\\xe4\\xba\\x88\\xe5\\xb9\\xb4\\xe9\\xbd\\xa1\\xe6\\x9c\\xaa\\xe6\\xbb\\xbf18\\xe6\\xad\\xb2\\xe7\\x9a\\x84\\xe4\\xba\\xba\\xe5\\xa3\\xab\\xe7\\x80\\x8f\\xe8\\xa6\\xbd\\xef\\xbc\\x8c\\xe6\\x88\\x96\\xe5\\xb0\\x87\\xe6\\x9c\\xac\\xe7\\xb6\\xb2\\xe7\\xab\\x99\\xe5\\x85\\xa7\\xe5\\xae\\xb9\\xe5\\x90\\x91\\xe8\\xa9\\xb2\\xe4\\xba\\xba\\xe5\\xa3\\xab\\xe5\\x87\\xba\\xe7\\xa4\\xba\\xe3\\x80\\x81\\xe6\\x92\\xad\\xe6\\x94\\xbe\\xe6\\x88\\x96\\xe6\\x94\\xbe\\xe6\\x98\\xa0\\xe3\\x80\\x82</p>\\n    </div>\\n</div>\\n\\n<div class=\"bbs-screen bbs-content center clear\">\\n    <form action=\"/ask/over18\" method=\"post\">\\n        <input type=\"hidden\" name=\"from\" value=\"/bbs/Beauty/M.1556291059.A.75A.html\">\\n        <div class=\"over18-button-container\">\\n            <button class=\"btn-big\" type=\"submit\" name=\"yes\" value=\"yes\">\\xe6\\x88\\x91\\xe5\\x90\\x8c\\xe6\\x84\\x8f\\xef\\xbc\\x8c\\xe6\\x88\\x91\\xe5\\xb7\\xb2\\xe5\\xb9\\xb4\\xe6\\xbb\\xbf\\xe5\\x8d\\x81\\xe5\\x85\\xab\\xe6\\xad\\xb2<br><small>\\xe9\\x80\\xb2\\xe5\\x85\\xa5</small></button>\\n        </div>\\n        <div class=\"over18-button-container\">\\n            <button class=\"btn-big\" type=\"submit\" name=\"no\" value=\"no\">\\xe6\\x9c\\xaa\\xe6\\xbb\\xbf\\xe5\\x8d\\x81\\xe5\\x85\\xab\\xe6\\xad\\xb2\\xe6\\x88\\x96\\xe4\\xb8\\x8d\\xe5\\x90\\x8c\\xe6\\x84\\x8f\\xe6\\x9c\\xac\\xe6\\xa2\\x9d\\xe6\\xac\\xbe<br><small>\\xe9\\x9b\\xa2\\xe9\\x96\\x8b</small></button>\\n        </div>\\n    </form>\\n</div>\\n\\n\\t\\t\\n\\n<script>\\n  (function(i,s,o,g,r,a,m){i[\\'GoogleAnalyticsObject\\']=r;i[r]=i[r]||function(){\\n  (i[r].q=i[r].q||[]).push(arguments)},i[r].l=1*new Date();a=s.createElement(o),\\n  m=s.getElementsByTagName(o)[0];a.async=1;a.src=g;m.parentNode.insertBefore(a,m)\\n  })(window,document,\\'script\\',\\'https://www.google-analytics.com/analytics.js\\',\\'ga\\');\\n\\n  ga(\\'create\\', \\'UA-32365737-1\\', {\\n    cookieDomain: \\'ptt.cc\\',\\n    legacyCookieDomain: \\'ptt.cc\\'\\n  });\\n  ga(\\'send\\', \\'pageview\\');\\n</script>\\n\\n\\n\\t\\t\\n<script src=\"//ajax.googleapis.com/ajax/libs/jquery/2.1.1/jquery.min.js\"></script>\\n<script src=\"//images.ptt.cc/bbs/v2.27/bbs.js\"></script>\\n\\n    </body>\\n</html>\\n'\n",
      "=====================\n",
      "<div class=\"bbs-screen bbs-content\">\n",
      "    <div class=\"over18-notice\">\n",
      "        <p>本網站已依網站內容分級規定處理</p>\n",
      "\n",
      "        <p>警告︰您即將進入之看板內容需滿十八歲方可瀏覽。</p>\n",
      "\n",
      "        <p>若您尚未年滿十八歲，請點選離開。若您已滿十八歲，亦不可將本區之內容派發、傳閱、出售、出租、交給或借予年齡未滿18歲的人士瀏覽，或將本網站內容向該人士出示、播放或放映。</p>\n",
      "    </div>\n",
      "</div>\n",
      "\n",
      "\n",
      "===================\n",
      "<div class=\"over18-notice\">\n",
      "        <p>本網站已依網站內容分級規定處理</p>\n",
      "\n",
      "        <p>警告︰您即將進入之看板內容需滿十八歲方可瀏覽。</p>\n",
      "\n",
      "        <p>若您尚未年滿十八歲，請點選離開。若您已滿十八歲，亦不可將本區之內容派發、傳閱、出售、出租、交給或借予年齡未滿18歲的人士瀏覽，或將本網站內容向該人士出示、播放或放映。</p>\n",
      "    </div>\n",
      "\n",
      "===================\n",
      "<div class=\"bbs-screen bbs-content center clear\">\n",
      "    <form action=\"/ask/over18\" method=\"post\">\n",
      "        <input type=\"hidden\" name=\"from\" value=\"/bbs/Beauty/M.1556291059.A.75A.html\"/>\n",
      "        <div class=\"over18-button-container\">\n",
      "            <button class=\"btn-big\" type=\"submit\" name=\"yes\" value=\"yes\">我同意，我已年滿十八歲<br/><small>進入</small></button>\n",
      "        </div>\n",
      "        <div class=\"over18-button-container\">\n",
      "            <button class=\"btn-big\" type=\"submit\" name=\"no\" value=\"no\">未滿十八歲或不同意本條款<br/><small>離開</small></button>\n",
      "        </div>\n",
      "    </form>\n",
      "</div>\n",
      "\n",
      "\t\t\n",
      "\n",
      "\n",
      "===================\n",
      "<div class=\"over18-button-container\">\n",
      "            <button class=\"btn-big\" type=\"submit\" name=\"yes\" value=\"yes\">我同意，我已年滿十八歲<br/><small>進入</small></button>\n",
      "        </div>\n",
      "        \n",
      "===================\n",
      "<div class=\"over18-button-container\">\n",
      "            <button class=\"btn-big\" type=\"submit\" name=\"no\" value=\"no\">未滿十八歲或不同意本條款<br/><small>離開</small></button>\n",
      "        </div>\n",
      "    \n",
      "===================\n"
     ]
    }
   ],
   "source": [
    "from grab import Grab\n",
    "from pyquery import PyQuery as pq\n",
    "res = Grab().go(url)\n",
    "print(res.body)\n",
    "print('=====================')\n",
    "\n",
    "doc = pq(res.body.decode('utf-8'))\n",
    "divs = doc('div')\n",
    "for div in divs.items():\n",
    "    print(div)\n",
    "    print('===================')"
   ]
  },
  {
   "cell_type": "code",
   "execution_count": null,
   "metadata": {},
   "outputs": [],
   "source": [
    "Grab 需要轉utf-8 requests 不用"
   ]
  }
 ],
 "metadata": {
  "kernelspec": {
   "display_name": "Python 3",
   "language": "python",
   "name": "python3"
  },
  "language_info": {
   "codemirror_mode": {
    "name": "ipython",
    "version": 3
   },
   "file_extension": ".py",
   "mimetype": "text/x-python",
   "name": "python",
   "nbconvert_exporter": "python",
   "pygments_lexer": "ipython3",
   "version": "3.7.4"
  }
 },
 "nbformat": 4,
 "nbformat_minor": 2
}
